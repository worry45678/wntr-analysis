{
 "cells": [
  {
   "cell_type": "code",
   "execution_count": 155,
   "metadata": {},
   "outputs": [],
   "source": [
    "import pandas as pd, wntr, matplotlib.pyplot as plt, copy, plotly"
   ]
  },
  {
   "cell_type": "code",
   "execution_count": 2,
   "metadata": {},
   "outputs": [],
   "source": [
    "import matplotlib.pyplot as plt"
   ]
  },
  {
   "cell_type": "code",
   "execution_count": 41,
   "metadata": {},
   "outputs": [],
   "source": [
    "plt.rcParams['font.sans-serif'] = ['SimHei'] # 步骤一（替换sans-serif字体）\n",
    "plt.rcParams['axes.unicode_minus'] = False   # 步骤二（解决坐标轴负数的负号显示问题）\n",
    "plt.rcParams['figure.titlesize'] = 24"
   ]
  },
  {
   "cell_type": "code",
   "execution_count": 3,
   "metadata": {},
   "outputs": [],
   "source": [
    "%matplotlib inline"
   ]
  },
  {
   "cell_type": "code",
   "execution_count": 4,
   "metadata": {},
   "outputs": [],
   "source": [
    "import wntr"
   ]
  },
  {
   "cell_type": "code",
   "execution_count": 5,
   "metadata": {},
   "outputs": [],
   "source": [
    "import copy"
   ]
  },
  {
   "cell_type": "code",
   "execution_count": 6,
   "metadata": {},
   "outputs": [],
   "source": [
    "import plotly"
   ]
  },
  {
   "cell_type": "code",
   "execution_count": 7,
   "metadata": {},
   "outputs": [],
   "source": [
    "#读取管径方案表\n",
    "df = pd.read_excel('方案.xlsx',index_col=0)\n",
    "#管径为0表示在该方案中无该管道"
   ]
  },
  {
   "cell_type": "code",
   "execution_count": 8,
   "metadata": {},
   "outputs": [
    {
     "data": {
      "text/html": [
       "<div>\n",
       "<style scoped>\n",
       "    .dataframe tbody tr th:only-of-type {\n",
       "        vertical-align: middle;\n",
       "    }\n",
       "\n",
       "    .dataframe tbody tr th {\n",
       "        vertical-align: top;\n",
       "    }\n",
       "\n",
       "    .dataframe thead th {\n",
       "        text-align: right;\n",
       "    }\n",
       "</style>\n",
       "<table border=\"1\" class=\"dataframe\">\n",
       "  <thead>\n",
       "    <tr style=\"text-align: right;\">\n",
       "      <th></th>\n",
       "      <th>现状</th>\n",
       "      <th>方案1</th>\n",
       "      <th>方案2</th>\n",
       "      <th>方案3</th>\n",
       "    </tr>\n",
       "  </thead>\n",
       "  <tbody>\n",
       "    <tr>\n",
       "      <th>PIPE01</th>\n",
       "      <td>0</td>\n",
       "      <td>2000</td>\n",
       "      <td>2000</td>\n",
       "      <td>2200</td>\n",
       "    </tr>\n",
       "    <tr>\n",
       "      <th>PIPE02</th>\n",
       "      <td>0</td>\n",
       "      <td>1600</td>\n",
       "      <td>1600</td>\n",
       "      <td>1600</td>\n",
       "    </tr>\n",
       "    <tr>\n",
       "      <th>PIPE03</th>\n",
       "      <td>0</td>\n",
       "      <td>0</td>\n",
       "      <td>1600</td>\n",
       "      <td>1600</td>\n",
       "    </tr>\n",
       "    <tr>\n",
       "      <th>PIPE04</th>\n",
       "      <td>0</td>\n",
       "      <td>1600</td>\n",
       "      <td>0</td>\n",
       "      <td>1600</td>\n",
       "    </tr>\n",
       "  </tbody>\n",
       "</table>\n",
       "</div>"
      ],
      "text/plain": [
       "        现状   方案1   方案2   方案3\n",
       "PIPE01   0  2000  2000  2200\n",
       "PIPE02   0  1600  1600  1600\n",
       "PIPE03   0     0  1600  1600\n",
       "PIPE04   0  1600     0  1600"
      ]
     },
     "execution_count": 8,
     "metadata": {},
     "output_type": "execute_result"
    }
   ],
   "source": [
    "df"
   ]
  },
  {
   "cell_type": "code",
   "execution_count": 9,
   "metadata": {},
   "outputs": [],
   "source": [
    "#现状管网模型\n",
    "inp_file = 'K007.inp'"
   ]
  },
  {
   "cell_type": "code",
   "execution_count": 153,
   "metadata": {},
   "outputs": [],
   "source": [
    "# 读取inp文件\n",
    "wn = wntr.network.WaterNetworkModel('BASIC.INP') # 获取管网模型"
   ]
  },
  {
   "cell_type": "code",
   "execution_count": 14,
   "metadata": {},
   "outputs": [],
   "source": [
    "# 改变管道启闭状态 (Opened, Closed, Active)\n",
    "wn.links['PIPE03'].initial_status = 'Opened'"
   ]
  },
  {
   "cell_type": "code",
   "execution_count": 15,
   "metadata": {},
   "outputs": [],
   "source": [
    "# 改变管道管径\n",
    "wn.links['PIPE03'].diameter = 1.4"
   ]
  },
  {
   "cell_type": "code",
   "execution_count": 11,
   "metadata": {},
   "outputs": [],
   "source": [
    "# 读取方案，生成模型\n",
    "watermodel = {}\n",
    "for i in df:\n",
    "    watermodel[i] = copy.deepcopy(wn)\n",
    "    for j in df[i].index:\n",
    "        if df.loc[j, i] == 0:\n",
    "            watermodel[i].links[j].initial_status = 'Closed'\n",
    "        else:\n",
    "            watermodel[i].links[j].diameter = df.loc[j, i]/1000\n",
    "    #watermodel[i].write_inpfile(f'{i}.inp') # 输出模型为inp文件"
   ]
  },
  {
   "cell_type": "code",
   "execution_count": 12,
   "metadata": {
    "scrolled": true
   },
   "outputs": [
    {
     "data": {
      "text/plain": [
       "{'方案1': <wntr.network.model.WaterNetworkModel at 0x101035f0>,\n",
       " '方案2': <wntr.network.model.WaterNetworkModel at 0x1052ddf0>,\n",
       " '方案3': <wntr.network.model.WaterNetworkModel at 0x106c9df0>,\n",
       " '现状': <wntr.network.model.WaterNetworkModel at 0x101035b0>}"
      ]
     },
     "execution_count": 12,
     "metadata": {},
     "output_type": "execute_result"
    }
   ],
   "source": [
    "watermodel"
   ]
  },
  {
   "cell_type": "code",
   "execution_count": 13,
   "metadata": {},
   "outputs": [
    {
     "name": "stdout",
     "output_type": "stream",
     "text": [
      "现状 <wntr.network.model.WaterNetworkModel object at 0x101035B0>\n",
      "方案1 <wntr.network.model.WaterNetworkModel object at 0x101035F0>\n",
      "方案2 <wntr.network.model.WaterNetworkModel object at 0x1052DDF0>\n",
      "方案3 <wntr.network.model.WaterNetworkModel object at 0x106C9DF0>\n"
     ]
    }
   ],
   "source": [
    "res = {}\n",
    "# 模拟计算各个方案\n",
    "for key, v in watermodel.items():\n",
    "    res[key] = wntr.sim.EpanetSimulator(v).run_sim()\n",
    "    #res[key].link.to_excel(f'{key}-link.xlsx') # 将结果按照方案输出为excel（管段数据）\n",
    "    #res[key].node.to_excel(f'{key}-node.xlsx') # 将结果按照方案输出为excel（节点数据）"
   ]
  },
  {
   "cell_type": "code",
   "execution_count": 14,
   "metadata": {},
   "outputs": [],
   "source": [
    "# 计算结果可用参数列表\n",
    "PARAMETERS = {'link':['flowrate', 'headloss', 'linkquality', 'status', 'velocity'],'node':['demand', 'head', 'pressure', 'quality']}"
   ]
  },
  {
   "cell_type": "code",
   "execution_count": 15,
   "metadata": {},
   "outputs": [],
   "source": [
    "# 将结果保存为容易横向对比的数据结构\n",
    "data = {}\n",
    "for i, l in PARAMETERS.items():\n",
    "    for key in l:\n",
    "        temp = {}\n",
    "        for index, value in res.items():\n",
    "            if i == 'link':\n",
    "                temp[index] = value.link[key]\n",
    "            else:\n",
    "                temp[index] = value.node[key]\n",
    "        data[key] = pd.Panel(temp)\n",
    "        del temp\n",
    "        #data[key].to_excel(f'{key}.xlsx') # 将结果按照参数输出为excel"
   ]
  },
  {
   "cell_type": "code",
   "execution_count": 184,
   "metadata": {
    "scrolled": true
   },
   "outputs": [
    {
     "data": {
      "image/png": "[encoded data removed]",
      "text/plain": [
       "<matplotlib.figure.Figure at 0x100463b0>"
      ]
     },
     "metadata": {},
     "output_type": "display_data"
    }
   ],
   "source": [
    "#管网压力图绘制\n",
    "pressure_at_1hr = res['方案1'].node['pressure'].loc[25200,:]\n",
    "flowrate_at_1hr = res['方案1'].link['flowrate'].loc[3600,:]\n",
    "wntr.graphics.plot_network(wn, node_attribute=pressure_at_1hr, \n",
    "                        link_attribute=flowrate_at_1hr)\n",
    "\n",
    "plt.show()"
   ]
  },
  {
   "cell_type": "code",
   "execution_count": 178,
   "metadata": {},
   "outputs": [],
   "source": [
    "df2 = pd.read_excel('报告设置.xlsx')"
   ]
  },
  {
   "cell_type": "code",
   "execution_count": 152,
   "metadata": {},
   "outputs": [
    {
     "data": {
      "text/html": [
       "<div>\n",
       "<style scoped>\n",
       "    .dataframe tbody tr th:only-of-type {\n",
       "        vertical-align: middle;\n",
       "    }\n",
       "\n",
       "    .dataframe tbody tr th {\n",
       "        vertical-align: top;\n",
       "    }\n",
       "\n",
       "    .dataframe thead th {\n",
       "        text-align: right;\n",
       "    }\n",
       "</style>\n",
       "<table border=\"1\" class=\"dataframe\">\n",
       "  <thead>\n",
       "    <tr style=\"text-align: right;\">\n",
       "      <th></th>\n",
       "      <th>ID</th>\n",
       "      <th>参数</th>\n",
       "    </tr>\n",
       "  </thead>\n",
       "  <tbody>\n",
       "    <tr>\n",
       "      <th>0</th>\n",
       "      <td>PIPE01</td>\n",
       "      <td>flowrate</td>\n",
       "    </tr>\n",
       "    <tr>\n",
       "      <th>1</th>\n",
       "      <td>PIPE01</td>\n",
       "      <td>velocity</td>\n",
       "    </tr>\n",
       "    <tr>\n",
       "      <th>2</th>\n",
       "      <td>PIPE02</td>\n",
       "      <td>flowrate</td>\n",
       "    </tr>\n",
       "    <tr>\n",
       "      <th>3</th>\n",
       "      <td>JGS009</td>\n",
       "      <td>pressure</td>\n",
       "    </tr>\n",
       "    <tr>\n",
       "      <th>4</th>\n",
       "      <td>PIPE01</td>\n",
       "      <td>headloss</td>\n",
       "    </tr>\n",
       "  </tbody>\n",
       "</table>\n",
       "</div>"
      ],
      "text/plain": [
       "       ID        参数\n",
       "0  PIPE01  flowrate\n",
       "1  PIPE01  velocity\n",
       "2  PIPE02  flowrate\n",
       "3  JGS009  pressure\n",
       "4  PIPE01  headloss"
      ]
     },
     "execution_count": 152,
     "metadata": {},
     "output_type": "execute_result"
    }
   ],
   "source": [
    "df2"
   ]
  },
  {
   "cell_type": "code",
   "execution_count": 62,
   "metadata": {},
   "outputs": [
    {
     "name": "stdout",
     "output_type": "stream",
     "text": [
      "PIPE01\n",
      "PIPE01\n",
      "PIPE02\n",
      "JGS009\n"
     ]
    }
   ],
   "source": [
    "#根据报告表生成图表\n",
    "for i in df2.index:\n",
    "    print(df2.loc[i,'ID'])\n",
    "    data[df2.loc[i,'参数']][:,:,df2.loc[i,'ID']].plot(figsize=(8,5),title=f'{df2.loc[i,\"ID\"]}-{df2.loc[i,\"参数\"]}曲线图')\n",
    "    plt.savefig(f'{df2.loc[i,\"ID\"]}-{df2.loc[i,\"参数\"]}曲线图')# 将曲线图保存为图片文件"
   ]
  },
  {
   "cell_type": "code",
   "execution_count": 131,
   "metadata": {},
   "outputs": [],
   "source": [
    "#根据报告生成报表\n",
    "report = pd.DataFrame()\n",
    "for i in df2.index:\n",
    "    temp = data[df2.loc[i,'参数']][:,:,df2.loc[i,'ID']]\n",
    "    temp['ID'] = df2.loc[i,'ID']\n",
    "    temp['参数'] = df2.loc[i,'参数']\n",
    "    report = report.append(temp)\n",
    "report.set_index(['ID','参数',report.index], inplace=True)\n",
    "report.sort_index(inplace=True)\n",
    "report.to_excel('报告.xlsx')"
   ]
  },
  {
   "cell_type": "code",
   "execution_count": 128,
   "metadata": {},
   "outputs": [],
   "source": [
    "report.sort_index().to_excel('报告2.xlsx')"
   ]
  },
  {
   "cell_type": "code",
   "execution_count": 185,
   "metadata": {},
   "outputs": [],
   "source": [
    "wntr.graphics.network.plot_interactive_network(wn,figsize=[1200,800],node_attribute=pressure_at_1hr,node_range=[20,35])"
   ]
  },
  {
   "cell_type": "code",
   "execution_count": 21,
   "metadata": {},
   "outputs": [
    {
     "data": {
      "text/plain": [
       "<matplotlib.figure.Figure at 0x16cca5d0>"
      ]
     },
     "execution_count": 21,
     "metadata": {},
     "output_type": "execute_result"
    }
   ],
   "source": [
    "plt.figure()"
   ]
  },
  {
   "cell_type": "code",
   "execution_count": 20,
   "metadata": {},
   "outputs": [
    {
     "data": {
      "text/plain": [
       "'0.1.5'"
      ]
     },
     "execution_count": 20,
     "metadata": {},
     "output_type": "execute_result"
    }
   ],
   "source": [
    "wntr.__version__"
   ]
  },
  {
   "cell_type": "code",
   "execution_count": 103,
   "metadata": {},
   "outputs": [],
   "source": [
    "tt = data['flowrate'][:,:,'PIPE01']"
   ]
  },
  {
   "cell_type": "code",
   "execution_count": 104,
   "metadata": {},
   "outputs": [],
   "source": [
    "tt['id'] = 'id'"
   ]
  },
  {
   "cell_type": "code",
   "execution_count": 105,
   "metadata": {},
   "outputs": [
    {
     "data": {
      "text/html": [
       "<div>\n",
       "<style scoped>\n",
       "    .dataframe tbody tr th:only-of-type {\n",
       "        vertical-align: middle;\n",
       "    }\n",
       "\n",
       "    .dataframe tbody tr th {\n",
       "        vertical-align: top;\n",
       "    }\n",
       "\n",
       "    .dataframe thead th {\n",
       "        text-align: right;\n",
       "    }\n",
       "</style>\n",
       "<table border=\"1\" class=\"dataframe\">\n",
       "  <thead>\n",
       "    <tr style=\"text-align: right;\">\n",
       "      <th></th>\n",
       "      <th>方案1</th>\n",
       "      <th>方案2</th>\n",
       "      <th>方案3</th>\n",
       "      <th>现状</th>\n",
       "      <th>id</th>\n",
       "    </tr>\n",
       "  </thead>\n",
       "  <tbody>\n",
       "    <tr>\n",
       "      <th>0</th>\n",
       "      <td>1.032755</td>\n",
       "      <td>1.073977</td>\n",
       "      <td>1.267838</td>\n",
       "      <td>0.0</td>\n",
       "      <td>id</td>\n",
       "    </tr>\n",
       "    <tr>\n",
       "      <th>3600</th>\n",
       "      <td>0.928433</td>\n",
       "      <td>0.961796</td>\n",
       "      <td>1.137806</td>\n",
       "      <td>0.0</td>\n",
       "      <td>id</td>\n",
       "    </tr>\n",
       "    <tr>\n",
       "      <th>7200</th>\n",
       "      <td>0.891745</td>\n",
       "      <td>0.922503</td>\n",
       "      <td>1.092688</td>\n",
       "      <td>0.0</td>\n",
       "      <td>id</td>\n",
       "    </tr>\n",
       "    <tr>\n",
       "      <th>10800</th>\n",
       "      <td>0.883708</td>\n",
       "      <td>0.913623</td>\n",
       "      <td>1.083912</td>\n",
       "      <td>0.0</td>\n",
       "      <td>id</td>\n",
       "    </tr>\n",
       "    <tr>\n",
       "      <th>14400</th>\n",
       "      <td>0.891964</td>\n",
       "      <td>0.918746</td>\n",
       "      <td>1.095826</td>\n",
       "      <td>0.0</td>\n",
       "      <td>id</td>\n",
       "    </tr>\n",
       "    <tr>\n",
       "      <th>18000</th>\n",
       "      <td>1.227000</td>\n",
       "      <td>1.281664</td>\n",
       "      <td>1.502442</td>\n",
       "      <td>0.0</td>\n",
       "      <td>id</td>\n",
       "    </tr>\n",
       "    <tr>\n",
       "      <th>21600</th>\n",
       "      <td>1.586845</td>\n",
       "      <td>1.666748</td>\n",
       "      <td>1.939753</td>\n",
       "      <td>0.0</td>\n",
       "      <td>id</td>\n",
       "    </tr>\n",
       "    <tr>\n",
       "      <th>25200</th>\n",
       "      <td>1.899799</td>\n",
       "      <td>1.983095</td>\n",
       "      <td>2.322531</td>\n",
       "      <td>0.0</td>\n",
       "      <td>id</td>\n",
       "    </tr>\n",
       "    <tr>\n",
       "      <th>28800</th>\n",
       "      <td>1.857696</td>\n",
       "      <td>1.935860</td>\n",
       "      <td>2.273500</td>\n",
       "      <td>0.0</td>\n",
       "      <td>id</td>\n",
       "    </tr>\n",
       "    <tr>\n",
       "      <th>32400</th>\n",
       "      <td>1.628663</td>\n",
       "      <td>1.708138</td>\n",
       "      <td>1.994991</td>\n",
       "      <td>0.0</td>\n",
       "      <td>id</td>\n",
       "    </tr>\n",
       "    <tr>\n",
       "      <th>36000</th>\n",
       "      <td>1.523262</td>\n",
       "      <td>1.597135</td>\n",
       "      <td>1.863928</td>\n",
       "      <td>0.0</td>\n",
       "      <td>id</td>\n",
       "    </tr>\n",
       "    <tr>\n",
       "      <th>39600</th>\n",
       "      <td>1.439267</td>\n",
       "      <td>1.507076</td>\n",
       "      <td>1.762362</td>\n",
       "      <td>0.0</td>\n",
       "      <td>id</td>\n",
       "    </tr>\n",
       "    <tr>\n",
       "      <th>43200</th>\n",
       "      <td>1.369948</td>\n",
       "      <td>1.434164</td>\n",
       "      <td>1.678607</td>\n",
       "      <td>0.0</td>\n",
       "      <td>id</td>\n",
       "    </tr>\n",
       "    <tr>\n",
       "      <th>46800</th>\n",
       "      <td>1.249294</td>\n",
       "      <td>1.304362</td>\n",
       "      <td>1.534044</td>\n",
       "      <td>0.0</td>\n",
       "      <td>id</td>\n",
       "    </tr>\n",
       "    <tr>\n",
       "      <th>50400</th>\n",
       "      <td>1.215114</td>\n",
       "      <td>1.267090</td>\n",
       "      <td>1.492924</td>\n",
       "      <td>0.0</td>\n",
       "      <td>id</td>\n",
       "    </tr>\n",
       "    <tr>\n",
       "      <th>54000</th>\n",
       "      <td>1.289863</td>\n",
       "      <td>1.348168</td>\n",
       "      <td>1.582366</td>\n",
       "      <td>0.0</td>\n",
       "      <td>id</td>\n",
       "    </tr>\n",
       "    <tr>\n",
       "      <th>57600</th>\n",
       "      <td>1.461847</td>\n",
       "      <td>1.534489</td>\n",
       "      <td>1.787328</td>\n",
       "      <td>0.0</td>\n",
       "      <td>id</td>\n",
       "    </tr>\n",
       "    <tr>\n",
       "      <th>61200</th>\n",
       "      <td>1.594417</td>\n",
       "      <td>1.679858</td>\n",
       "      <td>1.945734</td>\n",
       "      <td>0.0</td>\n",
       "      <td>id</td>\n",
       "    </tr>\n",
       "    <tr>\n",
       "      <th>64800</th>\n",
       "      <td>1.617666</td>\n",
       "      <td>1.701335</td>\n",
       "      <td>1.975726</td>\n",
       "      <td>0.0</td>\n",
       "      <td>id</td>\n",
       "    </tr>\n",
       "    <tr>\n",
       "      <th>68400</th>\n",
       "      <td>1.624016</td>\n",
       "      <td>1.704616</td>\n",
       "      <td>1.986562</td>\n",
       "      <td>0.0</td>\n",
       "      <td>id</td>\n",
       "    </tr>\n",
       "    <tr>\n",
       "      <th>72000</th>\n",
       "      <td>1.609176</td>\n",
       "      <td>1.682725</td>\n",
       "      <td>1.976618</td>\n",
       "      <td>0.0</td>\n",
       "      <td>id</td>\n",
       "    </tr>\n",
       "    <tr>\n",
       "      <th>75600</th>\n",
       "      <td>1.581069</td>\n",
       "      <td>1.653019</td>\n",
       "      <td>1.942061</td>\n",
       "      <td>0.0</td>\n",
       "      <td>id</td>\n",
       "    </tr>\n",
       "    <tr>\n",
       "      <th>79200</th>\n",
       "      <td>1.411209</td>\n",
       "      <td>1.479566</td>\n",
       "      <td>1.725489</td>\n",
       "      <td>0.0</td>\n",
       "      <td>id</td>\n",
       "    </tr>\n",
       "    <tr>\n",
       "      <th>82800</th>\n",
       "      <td>1.195598</td>\n",
       "      <td>1.251662</td>\n",
       "      <td>1.456997</td>\n",
       "      <td>0.0</td>\n",
       "      <td>id</td>\n",
       "    </tr>\n",
       "    <tr>\n",
       "      <th>86400</th>\n",
       "      <td>1.032758</td>\n",
       "      <td>1.073980</td>\n",
       "      <td>1.267841</td>\n",
       "      <td>0.0</td>\n",
       "      <td>id</td>\n",
       "    </tr>\n",
       "  </tbody>\n",
       "</table>\n",
       "</div>"
      ],
      "text/plain": [
       "            方案1       方案2       方案3   现状  id\n",
       "0      1.032755  1.073977  1.267838  0.0  id\n",
       "3600   0.928433  0.961796  1.137806  0.0  id\n",
       "7200   0.891745  0.922503  1.092688  0.0  id\n",
       "10800  0.883708  0.913623  1.083912  0.0  id\n",
       "14400  0.891964  0.918746  1.095826  0.0  id\n",
       "18000  1.227000  1.281664  1.502442  0.0  id\n",
       "21600  1.586845  1.666748  1.939753  0.0  id\n",
       "25200  1.899799  1.983095  2.322531  0.0  id\n",
       "28800  1.857696  1.935860  2.273500  0.0  id\n",
       "32400  1.628663  1.708138  1.994991  0.0  id\n",
       "36000  1.523262  1.597135  1.863928  0.0  id\n",
       "39600  1.439267  1.507076  1.762362  0.0  id\n",
       "43200  1.369948  1.434164  1.678607  0.0  id\n",
       "46800  1.249294  1.304362  1.534044  0.0  id\n",
       "50400  1.215114  1.267090  1.492924  0.0  id\n",
       "54000  1.289863  1.348168  1.582366  0.0  id\n",
       "57600  1.461847  1.534489  1.787328  0.0  id\n",
       "61200  1.594417  1.679858  1.945734  0.0  id\n",
       "64800  1.617666  1.701335  1.975726  0.0  id\n",
       "68400  1.624016  1.704616  1.986562  0.0  id\n",
       "72000  1.609176  1.682725  1.976618  0.0  id\n",
       "75600  1.581069  1.653019  1.942061  0.0  id\n",
       "79200  1.411209  1.479566  1.725489  0.0  id\n",
       "82800  1.195598  1.251662  1.456997  0.0  id\n",
       "86400  1.032758  1.073980  1.267841  0.0  id"
      ]
     },
     "execution_count": 105,
     "metadata": {},
     "output_type": "execute_result"
    }
   ],
   "source": [
    "tt"
   ]
  },
  {
   "cell_type": "code",
   "execution_count": 98,
   "metadata": {},
   "outputs": [],
   "source": [
    "t1 = data['flowrate'][:,:,'PIPE01']"
   ]
  },
  {
   "cell_type": "code",
   "execution_count": 99,
   "metadata": {},
   "outputs": [],
   "source": [
    "t1.loc[:,'id'] = 'id2'"
   ]
  },
  {
   "cell_type": "code",
   "execution_count": 100,
   "metadata": {},
   "outputs": [],
   "source": [
    "t2 = tt.append(t1)"
   ]
  },
  {
   "cell_type": "code",
   "execution_count": 102,
   "metadata": {},
   "outputs": [],
   "source": [
    "t2.set_index(['id',t2.index]).to_excel('temp.xlsx')"
   ]
  },
  {
   "cell_type": "code",
   "execution_count": 165,
   "metadata": {},
   "outputs": [
    {
     "data": {
      "text/plain": [
       "<matplotlib.axes._subplots.AxesSubplot at 0xee61130>"
      ]
     },
     "execution_count": 165,
     "metadata": {},
     "output_type": "execute_result"
    }
   ],
   "source": [
    "data['pressure'][:,:,'Y007'].plot(figsize=(8,5),title='NODE01-pressure曲线图')"
   ]
  },
  {
   "cell_type": "code",
   "execution_count": 166,
   "metadata": {},
   "outputs": [
    {
     "data": {
      "image/png": "[encoded data removed]",
      "text/plain": [
       "<matplotlib.figure.Figure at 0xee5b850>"
      ]
     },
     "metadata": {},
     "output_type": "display_data"
    }
   ],
   "source": [
    "plt.show()"
   ]
  },
  {
   "cell_type": "code",
   "execution_count": 31,
   "metadata": {},
   "outputs": [],
   "source": [
    "plt.savefig(\"temp.png\")"
   ]
  },
  {
   "cell_type": "code",
   "execution_count": 181,
   "metadata": {},
   "outputs": [
    {
     "data": {
      "text/plain": [
       "3    JGS009\n",
       "5      Y007\n",
       "6      Y099\n",
       "7      Y029\n",
       "Name: ID, dtype: object"
      ]
     },
     "execution_count": 181,
     "metadata": {},
     "output_type": "execute_result"
    }
   ],
   "source": [
    "df2[df2.参数.isin(PARAMETERS['node'])].ID"
   ]
  },
  {
   "cell_type": "code",
   "execution_count": 175,
   "metadata": {},
   "outputs": [
    {
     "data": {
      "text/plain": [
       "True"
      ]
     },
     "execution_count": 175,
     "metadata": {},
     "output_type": "execute_result"
    }
   ],
   "source": [
    "'pressure' in PARAMETERS['node']"
   ]
  },
  {
   "cell_type": "code",
   "execution_count": 172,
   "metadata": {},
   "outputs": [
    {
     "data": {
      "text/plain": [
       "['demand', 'head', 'pressure', 'quality']"
      ]
     },
     "execution_count": 172,
     "metadata": {},
     "output_type": "execute_result"
    }
   ],
   "source": [
    "PARAMETERS['node']"
   ]
  },
  {
   "cell_type": "code",
   "execution_count": 182,
   "metadata": {},
   "outputs": [
    {
     "data": {
      "text/html": [
       "<div>\n",
       "<style scoped>\n",
       "    .dataframe tbody tr th:only-of-type {\n",
       "        vertical-align: middle;\n",
       "    }\n",
       "\n",
       "    .dataframe tbody tr th {\n",
       "        vertical-align: top;\n",
       "    }\n",
       "\n",
       "    .dataframe thead th {\n",
       "        text-align: right;\n",
       "    }\n",
       "</style>\n",
       "<table border=\"1\" class=\"dataframe\">\n",
       "  <thead>\n",
       "    <tr style=\"text-align: right;\">\n",
       "      <th></th>\n",
       "      <th>方案1</th>\n",
       "      <th>方案2</th>\n",
       "      <th>方案3</th>\n",
       "      <th>现状</th>\n",
       "    </tr>\n",
       "    <tr>\n",
       "      <th>name</th>\n",
       "      <th></th>\n",
       "      <th></th>\n",
       "      <th></th>\n",
       "      <th></th>\n",
       "    </tr>\n",
       "  </thead>\n",
       "  <tbody>\n",
       "    <tr>\n",
       "      <th>JGS009</th>\n",
       "      <td>32.271469</td>\n",
       "      <td>32.236332</td>\n",
       "      <td>32.212513</td>\n",
       "      <td>32.465431</td>\n",
       "    </tr>\n",
       "    <tr>\n",
       "      <th>Y007</th>\n",
       "      <td>28.481464</td>\n",
       "      <td>28.648821</td>\n",
       "      <td>28.785479</td>\n",
       "      <td>27.251841</td>\n",
       "    </tr>\n",
       "    <tr>\n",
       "      <th>Y099</th>\n",
       "      <td>28.715569</td>\n",
       "      <td>28.981808</td>\n",
       "      <td>29.116289</td>\n",
       "      <td>27.747696</td>\n",
       "    </tr>\n",
       "    <tr>\n",
       "      <th>Y029</th>\n",
       "      <td>21.612076</td>\n",
       "      <td>21.903883</td>\n",
       "      <td>22.089075</td>\n",
       "      <td>20.652937</td>\n",
       "    </tr>\n",
       "  </tbody>\n",
       "</table>\n",
       "</div>"
      ],
      "text/plain": [
       "              方案1        方案2        方案3         现状\n",
       "name                                              \n",
       "JGS009  32.271469  32.236332  32.212513  32.465431\n",
       "Y007    28.481464  28.648821  28.785479  27.251841\n",
       "Y099    28.715569  28.981808  29.116289  27.747696\n",
       "Y029    21.612076  21.903883  22.089075  20.652937"
      ]
     },
     "execution_count": 182,
     "metadata": {},
     "output_type": "execute_result"
    }
   ],
   "source": [
    "data['pressure'][:,25200,df2[df2.参数.isin(PARAMETERS['node'])].ID]"
   ]
  },
  {
   "cell_type": "code",
   "execution_count": 167,
   "metadata": {},
   "outputs": [
    {
     "data": {
      "text/html": [
       "<div>\n",
       "<style scoped>\n",
       "    .dataframe tbody tr th:only-of-type {\n",
       "        vertical-align: middle;\n",
       "    }\n",
       "\n",
       "    .dataframe tbody tr th {\n",
       "        vertical-align: top;\n",
       "    }\n",
       "\n",
       "    .dataframe thead th {\n",
       "        text-align: right;\n",
       "    }\n",
       "</style>\n",
       "<table border=\"1\" class=\"dataframe\">\n",
       "  <thead>\n",
       "    <tr style=\"text-align: right;\">\n",
       "      <th></th>\n",
       "      <th>方案1</th>\n",
       "      <th>方案2</th>\n",
       "      <th>方案3</th>\n",
       "      <th>现状</th>\n",
       "    </tr>\n",
       "  </thead>\n",
       "  <tbody>\n",
       "    <tr>\n",
       "      <th>0</th>\n",
       "      <td>1.032755</td>\n",
       "      <td>1.073977</td>\n",
       "      <td>1.267838</td>\n",
       "      <td>0.0</td>\n",
       "    </tr>\n",
       "    <tr>\n",
       "      <th>3600</th>\n",
       "      <td>0.928433</td>\n",
       "      <td>0.961796</td>\n",
       "      <td>1.137806</td>\n",
       "      <td>0.0</td>\n",
       "    </tr>\n",
       "    <tr>\n",
       "      <th>7200</th>\n",
       "      <td>0.891745</td>\n",
       "      <td>0.922503</td>\n",
       "      <td>1.092688</td>\n",
       "      <td>0.0</td>\n",
       "    </tr>\n",
       "    <tr>\n",
       "      <th>10800</th>\n",
       "      <td>0.883708</td>\n",
       "      <td>0.913623</td>\n",
       "      <td>1.083912</td>\n",
       "      <td>0.0</td>\n",
       "    </tr>\n",
       "    <tr>\n",
       "      <th>14400</th>\n",
       "      <td>0.891964</td>\n",
       "      <td>0.918746</td>\n",
       "      <td>1.095826</td>\n",
       "      <td>0.0</td>\n",
       "    </tr>\n",
       "    <tr>\n",
       "      <th>18000</th>\n",
       "      <td>1.227000</td>\n",
       "      <td>1.281664</td>\n",
       "      <td>1.502442</td>\n",
       "      <td>0.0</td>\n",
       "    </tr>\n",
       "    <tr>\n",
       "      <th>21600</th>\n",
       "      <td>1.586845</td>\n",
       "      <td>1.666748</td>\n",
       "      <td>1.939753</td>\n",
       "      <td>0.0</td>\n",
       "    </tr>\n",
       "    <tr>\n",
       "      <th>25200</th>\n",
       "      <td>1.899799</td>\n",
       "      <td>1.983095</td>\n",
       "      <td>2.322531</td>\n",
       "      <td>0.0</td>\n",
       "    </tr>\n",
       "    <tr>\n",
       "      <th>28800</th>\n",
       "      <td>1.857696</td>\n",
       "      <td>1.935860</td>\n",
       "      <td>2.273500</td>\n",
       "      <td>0.0</td>\n",
       "    </tr>\n",
       "    <tr>\n",
       "      <th>32400</th>\n",
       "      <td>1.628663</td>\n",
       "      <td>1.708138</td>\n",
       "      <td>1.994991</td>\n",
       "      <td>0.0</td>\n",
       "    </tr>\n",
       "    <tr>\n",
       "      <th>36000</th>\n",
       "      <td>1.523262</td>\n",
       "      <td>1.597135</td>\n",
       "      <td>1.863928</td>\n",
       "      <td>0.0</td>\n",
       "    </tr>\n",
       "    <tr>\n",
       "      <th>39600</th>\n",
       "      <td>1.439267</td>\n",
       "      <td>1.507076</td>\n",
       "      <td>1.762362</td>\n",
       "      <td>0.0</td>\n",
       "    </tr>\n",
       "    <tr>\n",
       "      <th>43200</th>\n",
       "      <td>1.369948</td>\n",
       "      <td>1.434164</td>\n",
       "      <td>1.678607</td>\n",
       "      <td>0.0</td>\n",
       "    </tr>\n",
       "    <tr>\n",
       "      <th>46800</th>\n",
       "      <td>1.249294</td>\n",
       "      <td>1.304362</td>\n",
       "      <td>1.534044</td>\n",
       "      <td>0.0</td>\n",
       "    </tr>\n",
       "    <tr>\n",
       "      <th>50400</th>\n",
       "      <td>1.215114</td>\n",
       "      <td>1.267090</td>\n",
       "      <td>1.492924</td>\n",
       "      <td>0.0</td>\n",
       "    </tr>\n",
       "    <tr>\n",
       "      <th>54000</th>\n",
       "      <td>1.289863</td>\n",
       "      <td>1.348168</td>\n",
       "      <td>1.582366</td>\n",
       "      <td>0.0</td>\n",
       "    </tr>\n",
       "    <tr>\n",
       "      <th>57600</th>\n",
       "      <td>1.461847</td>\n",
       "      <td>1.534489</td>\n",
       "      <td>1.787328</td>\n",
       "      <td>0.0</td>\n",
       "    </tr>\n",
       "    <tr>\n",
       "      <th>61200</th>\n",
       "      <td>1.594417</td>\n",
       "      <td>1.679858</td>\n",
       "      <td>1.945734</td>\n",
       "      <td>0.0</td>\n",
       "    </tr>\n",
       "    <tr>\n",
       "      <th>64800</th>\n",
       "      <td>1.617666</td>\n",
       "      <td>1.701335</td>\n",
       "      <td>1.975726</td>\n",
       "      <td>0.0</td>\n",
       "    </tr>\n",
       "    <tr>\n",
       "      <th>68400</th>\n",
       "      <td>1.624016</td>\n",
       "      <td>1.704616</td>\n",
       "      <td>1.986562</td>\n",
       "      <td>0.0</td>\n",
       "    </tr>\n",
       "    <tr>\n",
       "      <th>72000</th>\n",
       "      <td>1.609176</td>\n",
       "      <td>1.682725</td>\n",
       "      <td>1.976618</td>\n",
       "      <td>0.0</td>\n",
       "    </tr>\n",
       "    <tr>\n",
       "      <th>75600</th>\n",
       "      <td>1.581069</td>\n",
       "      <td>1.653019</td>\n",
       "      <td>1.942061</td>\n",
       "      <td>0.0</td>\n",
       "    </tr>\n",
       "    <tr>\n",
       "      <th>79200</th>\n",
       "      <td>1.411209</td>\n",
       "      <td>1.479566</td>\n",
       "      <td>1.725489</td>\n",
       "      <td>0.0</td>\n",
       "    </tr>\n",
       "    <tr>\n",
       "      <th>82800</th>\n",
       "      <td>1.195598</td>\n",
       "      <td>1.251662</td>\n",
       "      <td>1.456997</td>\n",
       "      <td>0.0</td>\n",
       "    </tr>\n",
       "    <tr>\n",
       "      <th>86400</th>\n",
       "      <td>1.032758</td>\n",
       "      <td>1.073980</td>\n",
       "      <td>1.267841</td>\n",
       "      <td>0.0</td>\n",
       "    </tr>\n",
       "  </tbody>\n",
       "</table>\n",
       "</div>"
      ],
      "text/plain": [
       "            方案1       方案2       方案3   现状\n",
       "0      1.032755  1.073977  1.267838  0.0\n",
       "3600   0.928433  0.961796  1.137806  0.0\n",
       "7200   0.891745  0.922503  1.092688  0.0\n",
       "10800  0.883708  0.913623  1.083912  0.0\n",
       "14400  0.891964  0.918746  1.095826  0.0\n",
       "18000  1.227000  1.281664  1.502442  0.0\n",
       "21600  1.586845  1.666748  1.939753  0.0\n",
       "25200  1.899799  1.983095  2.322531  0.0\n",
       "28800  1.857696  1.935860  2.273500  0.0\n",
       "32400  1.628663  1.708138  1.994991  0.0\n",
       "36000  1.523262  1.597135  1.863928  0.0\n",
       "39600  1.439267  1.507076  1.762362  0.0\n",
       "43200  1.369948  1.434164  1.678607  0.0\n",
       "46800  1.249294  1.304362  1.534044  0.0\n",
       "50400  1.215114  1.267090  1.492924  0.0\n",
       "54000  1.289863  1.348168  1.582366  0.0\n",
       "57600  1.461847  1.534489  1.787328  0.0\n",
       "61200  1.594417  1.679858  1.945734  0.0\n",
       "64800  1.617666  1.701335  1.975726  0.0\n",
       "68400  1.624016  1.704616  1.986562  0.0\n",
       "72000  1.609176  1.682725  1.976618  0.0\n",
       "75600  1.581069  1.653019  1.942061  0.0\n",
       "79200  1.411209  1.479566  1.725489  0.0\n",
       "82800  1.195598  1.251662  1.456997  0.0\n",
       "86400  1.032758  1.073980  1.267841  0.0"
      ]
     },
     "execution_count": 167,
     "metadata": {},
     "output_type": "execute_result"
    }
   ],
   "source": [
    "data['flowrate'][:,:,'PIPE01']"
   ]
  },
  {
   "cell_type": "code",
   "execution_count": 44,
   "metadata": {},
   "outputs": [],
   "source": [
    "df.plot?"
   ]
  },
  {
   "cell_type": "code",
   "execution_count": 136,
   "metadata": {},
   "outputs": [],
   "source": [
    "x = data['flowrate'].to_xarray()"
   ]
  },
  {
   "cell_type": "code",
   "execution_count": 146,
   "metadata": {},
   "outputs": [
    {
     "data": {
      "text/html": [
       "<div>\n",
       "<style scoped>\n",
       "    .dataframe tbody tr th:only-of-type {\n",
       "        vertical-align: middle;\n",
       "    }\n",
       "\n",
       "    .dataframe tbody tr th {\n",
       "        vertical-align: top;\n",
       "    }\n",
       "\n",
       "    .dataframe thead th {\n",
       "        text-align: right;\n",
       "    }\n",
       "</style>\n",
       "<table border=\"1\" class=\"dataframe\">\n",
       "  <thead>\n",
       "    <tr style=\"text-align: right;\">\n",
       "      <th></th>\n",
       "      <th></th>\n",
       "      <th></th>\n",
       "      <th>xx</th>\n",
       "    </tr>\n",
       "    <tr>\n",
       "      <th>items</th>\n",
       "      <th>major_axis</th>\n",
       "      <th>minor_axis</th>\n",
       "      <th></th>\n",
       "    </tr>\n",
       "  </thead>\n",
       "  <tbody>\n",
       "    <tr>\n",
       "      <th rowspan=\"30\" valign=\"top\">方案1</th>\n",
       "      <th rowspan=\"30\" valign=\"top\">0</th>\n",
       "      <th>L1</th>\n",
       "      <td>2.155341e-01</td>\n",
       "    </tr>\n",
       "    <tr>\n",
       "      <th>L2</th>\n",
       "      <td>2.151160e-01</td>\n",
       "    </tr>\n",
       "    <tr>\n",
       "      <th>L4</th>\n",
       "      <td>1.754759e-01</td>\n",
       "    </tr>\n",
       "    <tr>\n",
       "      <th>L5</th>\n",
       "      <td>-8.212876e-02</td>\n",
       "    </tr>\n",
       "    <tr>\n",
       "      <th>L6</th>\n",
       "      <td>3.314988e-02</td>\n",
       "    </tr>\n",
       "    <tr>\n",
       "      <th>L7</th>\n",
       "      <td>-2.200902e-02</td>\n",
       "    </tr>\n",
       "    <tr>\n",
       "      <th>L8</th>\n",
       "      <td>9.222706e-02</td>\n",
       "    </tr>\n",
       "    <tr>\n",
       "      <th>L9</th>\n",
       "      <td>8.336286e-02</td>\n",
       "    </tr>\n",
       "    <tr>\n",
       "      <th>L11</th>\n",
       "      <td>3.061111e-03</td>\n",
       "    </tr>\n",
       "    <tr>\n",
       "      <th>L12</th>\n",
       "      <td>-4.350839e-03</td>\n",
       "    </tr>\n",
       "    <tr>\n",
       "      <th>L13</th>\n",
       "      <td>-2.578222e-02</td>\n",
       "    </tr>\n",
       "    <tr>\n",
       "      <th>L14</th>\n",
       "      <td>7.509690e-03</td>\n",
       "    </tr>\n",
       "    <tr>\n",
       "      <th>L15</th>\n",
       "      <td>5.051068e-02</td>\n",
       "    </tr>\n",
       "    <tr>\n",
       "      <th>L16</th>\n",
       "      <td>2.931773e-02</td>\n",
       "    </tr>\n",
       "    <tr>\n",
       "      <th>L15-86</th>\n",
       "      <td>6.530882e-03</td>\n",
       "    </tr>\n",
       "    <tr>\n",
       "      <th>L23</th>\n",
       "      <td>6.108750e-03</td>\n",
       "    </tr>\n",
       "    <tr>\n",
       "      <th>L24</th>\n",
       "      <td>1.347643e-02</td>\n",
       "    </tr>\n",
       "    <tr>\n",
       "      <th>L25</th>\n",
       "      <td>-4.208250e-03</td>\n",
       "    </tr>\n",
       "    <tr>\n",
       "      <th>L26</th>\n",
       "      <td>-7.672590e-03</td>\n",
       "    </tr>\n",
       "    <tr>\n",
       "      <th>L27</th>\n",
       "      <td>-1.424286e-02</td>\n",
       "    </tr>\n",
       "    <tr>\n",
       "      <th>L28</th>\n",
       "      <td>7.112844e-03</td>\n",
       "    </tr>\n",
       "    <tr>\n",
       "      <th>L29</th>\n",
       "      <td>-3.210802e-02</td>\n",
       "    </tr>\n",
       "    <tr>\n",
       "      <th>L30</th>\n",
       "      <td>-1.041733e-02</td>\n",
       "    </tr>\n",
       "    <tr>\n",
       "      <th>L31</th>\n",
       "      <td>9.888031e-03</td>\n",
       "    </tr>\n",
       "    <tr>\n",
       "      <th>L32</th>\n",
       "      <td>6.521430e-03</td>\n",
       "    </tr>\n",
       "    <tr>\n",
       "      <th>L33</th>\n",
       "      <td>-1.170708e-02</td>\n",
       "    </tr>\n",
       "    <tr>\n",
       "      <th>L34</th>\n",
       "      <td>-1.403655e-02</td>\n",
       "    </tr>\n",
       "    <tr>\n",
       "      <th>L35</th>\n",
       "      <td>1.134870e-03</td>\n",
       "    </tr>\n",
       "    <tr>\n",
       "      <th>L36</th>\n",
       "      <td>5.712360e-03</td>\n",
       "    </tr>\n",
       "    <tr>\n",
       "      <th>L38</th>\n",
       "      <td>-1.378596e-01</td>\n",
       "    </tr>\n",
       "    <tr>\n",
       "      <th>...</th>\n",
       "      <th>...</th>\n",
       "      <th>...</th>\n",
       "      <td>...</td>\n",
       "    </tr>\n",
       "    <tr>\n",
       "      <th rowspan=\"30\" valign=\"top\">现状</th>\n",
       "      <th rowspan=\"30\" valign=\"top\">86400</th>\n",
       "      <th>L16-123</th>\n",
       "      <td>3.910463e-02</td>\n",
       "    </tr>\n",
       "    <tr>\n",
       "      <th>L16-124</th>\n",
       "      <td>3.910463e-02</td>\n",
       "    </tr>\n",
       "    <tr>\n",
       "      <th>L16-125</th>\n",
       "      <td>3.392957e-02</td>\n",
       "    </tr>\n",
       "    <tr>\n",
       "      <th>L16-126</th>\n",
       "      <td>7.303419e-02</td>\n",
       "    </tr>\n",
       "    <tr>\n",
       "      <th>L16-127</th>\n",
       "      <td>1.115931e-01</td>\n",
       "    </tr>\n",
       "    <tr>\n",
       "      <th>L16-128</th>\n",
       "      <td>1.129871e-01</td>\n",
       "    </tr>\n",
       "    <tr>\n",
       "      <th>L16-129</th>\n",
       "      <td>2.746601e-09</td>\n",
       "    </tr>\n",
       "    <tr>\n",
       "      <th>L16-130</th>\n",
       "      <td>2.651683e-01</td>\n",
       "    </tr>\n",
       "    <tr>\n",
       "      <th>L16-131</th>\n",
       "      <td>7.806925e-02</td>\n",
       "    </tr>\n",
       "    <tr>\n",
       "      <th>L16-132</th>\n",
       "      <td>1.870991e-01</td>\n",
       "    </tr>\n",
       "    <tr>\n",
       "      <th>L16-133</th>\n",
       "      <td>2.016176e-01</td>\n",
       "    </tr>\n",
       "    <tr>\n",
       "      <th>L16-134</th>\n",
       "      <td>2.016176e-01</td>\n",
       "    </tr>\n",
       "    <tr>\n",
       "      <th>L16-135</th>\n",
       "      <td>2.016176e-01</td>\n",
       "    </tr>\n",
       "    <tr>\n",
       "      <th>L16-110</th>\n",
       "      <td>2.690423e-01</td>\n",
       "    </tr>\n",
       "    <tr>\n",
       "      <th>L16-121</th>\n",
       "      <td>1.355795e-02</td>\n",
       "    </tr>\n",
       "    <tr>\n",
       "      <th>L16-136</th>\n",
       "      <td>-1.355795e-02</td>\n",
       "    </tr>\n",
       "    <tr>\n",
       "      <th>L16-138</th>\n",
       "      <td>3.236280e-03</td>\n",
       "    </tr>\n",
       "    <tr>\n",
       "      <th>Liu-lq-001</th>\n",
       "      <td>4.362462e-02</td>\n",
       "    </tr>\n",
       "    <tr>\n",
       "      <th>GD2</th>\n",
       "      <td>2.411775e-02</td>\n",
       "    </tr>\n",
       "    <tr>\n",
       "      <th>GD1</th>\n",
       "      <td>-7.107845e-01</td>\n",
       "    </tr>\n",
       "    <tr>\n",
       "      <th>GD3</th>\n",
       "      <td>-2.371973e-01</td>\n",
       "    </tr>\n",
       "    <tr>\n",
       "      <th>L241-1</th>\n",
       "      <td>2.576388e-01</td>\n",
       "    </tr>\n",
       "    <tr>\n",
       "      <th>L241-2</th>\n",
       "      <td>2.576388e-01</td>\n",
       "    </tr>\n",
       "    <tr>\n",
       "      <th>PIPE02</th>\n",
       "      <td>0.000000e+00</td>\n",
       "    </tr>\n",
       "    <tr>\n",
       "      <th>PIPE01</th>\n",
       "      <td>0.000000e+00</td>\n",
       "    </tr>\n",
       "    <tr>\n",
       "      <th>PIPE03</th>\n",
       "      <td>0.000000e+00</td>\n",
       "    </tr>\n",
       "    <tr>\n",
       "      <th>GD8</th>\n",
       "      <td>2.120400e-01</td>\n",
       "    </tr>\n",
       "    <tr>\n",
       "      <th>GD4</th>\n",
       "      <td>1.272240e-01</td>\n",
       "    </tr>\n",
       "    <tr>\n",
       "      <th>PIPE04</th>\n",
       "      <td>0.000000e+00</td>\n",
       "    </tr>\n",
       "    <tr>\n",
       "      <th>1</th>\n",
       "      <td>0.000000e+00</td>\n",
       "    </tr>\n",
       "  </tbody>\n",
       "</table>\n",
       "<p>296400 rows × 1 columns</p>\n",
       "</div>"
      ],
      "text/plain": [
       "                                       xx\n",
       "items major_axis minor_axis              \n",
       "方案1   0          L1          2.155341e-01\n",
       "                 L2          2.151160e-01\n",
       "                 L4          1.754759e-01\n",
       "                 L5         -8.212876e-02\n",
       "                 L6          3.314988e-02\n",
       "                 L7         -2.200902e-02\n",
       "                 L8          9.222706e-02\n",
       "                 L9          8.336286e-02\n",
       "                 L11         3.061111e-03\n",
       "                 L12        -4.350839e-03\n",
       "                 L13        -2.578222e-02\n",
       "                 L14         7.509690e-03\n",
       "                 L15         5.051068e-02\n",
       "                 L16         2.931773e-02\n",
       "                 L15-86      6.530882e-03\n",
       "                 L23         6.108750e-03\n",
       "                 L24         1.347643e-02\n",
       "                 L25        -4.208250e-03\n",
       "                 L26        -7.672590e-03\n",
       "                 L27        -1.424286e-02\n",
       "                 L28         7.112844e-03\n",
       "                 L29        -3.210802e-02\n",
       "                 L30        -1.041733e-02\n",
       "                 L31         9.888031e-03\n",
       "                 L32         6.521430e-03\n",
       "                 L33        -1.170708e-02\n",
       "                 L34        -1.403655e-02\n",
       "                 L35         1.134870e-03\n",
       "                 L36         5.712360e-03\n",
       "                 L38        -1.378596e-01\n",
       "...                                   ...\n",
       "现状    86400      L16-123     3.910463e-02\n",
       "                 L16-124     3.910463e-02\n",
       "                 L16-125     3.392957e-02\n",
       "                 L16-126     7.303419e-02\n",
       "                 L16-127     1.115931e-01\n",
       "                 L16-128     1.129871e-01\n",
       "                 L16-129     2.746601e-09\n",
       "                 L16-130     2.651683e-01\n",
       "                 L16-131     7.806925e-02\n",
       "                 L16-132     1.870991e-01\n",
       "                 L16-133     2.016176e-01\n",
       "                 L16-134     2.016176e-01\n",
       "                 L16-135     2.016176e-01\n",
       "                 L16-110     2.690423e-01\n",
       "                 L16-121     1.355795e-02\n",
       "                 L16-136    -1.355795e-02\n",
       "                 L16-138     3.236280e-03\n",
       "                 Liu-lq-001  4.362462e-02\n",
       "                 GD2         2.411775e-02\n",
       "                 GD1        -7.107845e-01\n",
       "                 GD3        -2.371973e-01\n",
       "                 L241-1      2.576388e-01\n",
       "                 L241-2      2.576388e-01\n",
       "                 PIPE02      0.000000e+00\n",
       "                 PIPE01      0.000000e+00\n",
       "                 PIPE03      0.000000e+00\n",
       "                 GD8         2.120400e-01\n",
       "                 GD4         1.272240e-01\n",
       "                 PIPE04      0.000000e+00\n",
       "                 1           0.000000e+00\n",
       "\n",
       "[296400 rows x 1 columns]"
      ]
     },
     "execution_count": 146,
     "metadata": {},
     "output_type": "execute_result"
    }
   ],
   "source": [
    "x.to_dataframe(name='xx')"
   ]
  },
  {
   "cell_type": "code",
   "execution_count": 157,
   "metadata": {},
   "outputs": [
    {
     "name": "stdout",
     "output_type": "stream",
     "text": [
      "Object `to_excel` not found.\n"
     ]
    }
   ],
   "source": [
    "data['demand'].to_excel?"
   ]
  },
  {
   "cell_type": "code",
   "execution_count": 162,
   "metadata": {},
   "outputs": [],
   "source": [
    "data['demand'].to_excel('temp.xlsx')"
   ]
  },
  {
   "cell_type": "code",
   "execution_count": 158,
   "metadata": {},
   "outputs": [],
   "source": [
    "df.to_excel?"
   ]
  },
  {
   "cell_type": "code",
   "execution_count": null,
   "metadata": {},
   "outputs": [],
   "source": []
  }
 ],
 "metadata": {
  "kernelspec": {
   "display_name": "Python 3",
   "language": "python",
   "name": "python3"
  },
  "language_info": {
   "codemirror_mode": {
    "name": "ipython",
    "version": 3
   },
   "file_extension": ".py",
   "mimetype": "text/x-python",
   "name": "python",
   "nbconvert_exporter": "python",
   "pygments_lexer": "ipython3",
   "version": "3.6.5"
  }
 },
 "nbformat": 4,
 "nbformat_minor": 2
}
